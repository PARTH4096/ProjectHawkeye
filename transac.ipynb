{
 "cells": [
  {
   "cell_type": "code",
   "execution_count": 141,
   "metadata": {},
   "outputs": [],
   "source": [
    "import pandas as pd\n",
    "import numpy as np\n",
    "import matplotlib.pyplot as plt\n",
    "\n",
    "df = pd.read_csv(\"trans.csv\",delimiter=';')\n",
    "def ddmmyy(date):\n",
    "    \n",
    "    date1 = date//100       #YYMM form\n",
    "    date2 = date1%100        #MM form\n",
    "    \n",
    "    if date2 == 1:\n",
    "     o_date = date1-89\n",
    "    if date2 != 1:\n",
    "     o_date = date1-1\n",
    "    return o_date \n",
    "        \n",
    "\n",
    "def old(accountnum,date,p): #here date is YYMM\n",
    "    #p is the no. of days passed in current month. 1 for 10 days, 2 for 20 days...\n",
    "    account_id=df[df['account_id']==accountnum]\n",
    "    date=account_id[((account_id['date'])//100)==date]\n",
    "    amount=date['amount']\n",
    "    amount_total=date['amount'].sum(axis=0)\n",
    "\n",
    "\n",
    "    date_010 = date[(date['date'])%100<=10]\n",
    "    amount_sum_1 = date_010['amount'].values.sum()/amount_total*100\n",
    "    amount_variation_1 = date_010['amount'].values.std()*(date_010['amount'].count())**0.5/amount_total*100\n",
    "\n",
    "\n",
    "    date_020 = date[(date['date'])%100<=20]\n",
    "    amount_sum_2 = date_020['amount'].values.sum()/amount_total*100\n",
    "    amount_variation_2 = date_020['amount'].values.std()*(date_020['amount'].count())**0.5/amount_total*100\n",
    "\n",
    "\n",
    "    date_030 = date[(date['date'])%100<=31]\n",
    "    amount_sum_3 = date_030['amount'].values.sum()/amount_total*100\n",
    "    amount_variation_3 = date_030['amount'].values.std()*(date_030['amount'].count())**0.5/amount_total*100\n",
    "\n",
    "\n",
    "    #prev_month = [amount_mean_1,amount_std_1,amount_mean_2,amount_std_2,amount_mean_3,amount_std_3]\n",
    "    limits_1 = [amount_sum_1-amount_variation_1,amount_sum_1,amount_sum_1+amount_variation_1,amount_sum_1+2*amount_variation_1]\n",
    "    limits_2 = [amount_sum_2-amount_variation_2,amount_sum_2,amount_sum_2+amount_variation_2,amount_sum_2+2*amount_variation_2]\n",
    "    limits_3 = [amount_sum_3-amount_variation_3,amount_sum_3,amount_sum_3+amount_variation_3,amount_sum_3+2*amount_variation_3]\n",
    "    \n",
    "    if p == 1:\n",
    "        limits=limits_1.copy()\n",
    "        \n",
    "        return limits\n",
    "    if p == 2:\n",
    "        limits=limits_2.copy()   \n",
    "        return limits\n",
    "    if p == 3:\n",
    "        limits=limits_3.copy()\n",
    "        return limits\n",
    "\n",
    "def new(accountnum,date1,part,amount_total=date['amount'].sum()):#date is YYMMDD\n",
    "    account_id=df[df['account_id']==accountnum]\n",
    "    date=account_id[((account_id['date'])//100)==date1//100] #same month\n",
    "    amount=date['amount']\n",
    "    #amount_total=date['amount'].sum()\n",
    "    print(amount_total)\n",
    "   # print(date)\n",
    "    if part == 1:\n",
    "         date_010 = date[(date['date'])%100<=10]\n",
    "         amount_sum_0 = date_010['amount'].values.sum()/amount_total*100\n",
    "         amount_variation_0 = date_010['amount'].values.std()*(date_010['amount'].count())**0.5/amount_total*100\n",
    "\n",
    "    if part == 2:      \n",
    "            date_020 = date[(date['date'])%100<=20]\n",
    "            amount_sum_0 = date_020['amount'].values.sum()/amount_total*100\n",
    "            amount_variation_0 = date_020['amount'].values.std()*(date_020['amount'].count())**0.5/amount_total*100\n",
    "\n",
    "    if part==3 :\n",
    "            date_030 = date[(date['date'])%100<=31]\n",
    "            amount_sum_0 = date_030['amount'].values.sum()/amount_total*100\n",
    "            amount_variation_0 = date_030['amount'].values.std()*(date_030['amount'].count())**0.5/amount_total*100\n",
    "            \n",
    "            \n",
    "    limits = old(accountnum,ddmmyy(date1),part)\n",
    "    \n",
    "    diff1=amount_sum_0 - limits[2]\n",
    "    diff2=amount_sum_0 - limits[3] \n",
    "   # print(diff1,diff2)\n",
    "    if diff1>0 and diff2<0:\n",
    "        print(\"for the next 10 days your spendings should be less than \")\n",
    "        print(limits[1])\n",
    "        print(\"%\")\n",
    "    if  diff2>0 :\n",
    "        print(\"for the next 10 days your spendings should be less than \")\n",
    "        print(limits[0])\n",
    "        print(\"%\")\n",
    "    else :\n",
    "        print(\"Good job for these 10 days.\")\n",
    "        \n",
    "\n",
    "\n",
    "\n",
    "\n",
    "\n",
    "        \n",
    "\n"
   ]
  },
  {
   "cell_type": "code",
   "execution_count": 142,
   "metadata": {
    "scrolled": true
   },
   "outputs": [
    {
     "name": "stdout",
     "output_type": "stream",
     "text": [
      "34469.799999999996\n",
      "for the next 10 days your spendings should be less than \n",
      "2.0651420660066684\n",
      "%\n"
     ]
    }
   ],
   "source": [
    "new(8261,980121,1)\n",
    "#print(old(8261,9801,1))"
   ]
  },
  {
   "cell_type": "markdown",
   "metadata": {},
   "source": []
  },
  {
   "cell_type": "code",
   "execution_count": null,
   "metadata": {},
   "outputs": [],
   "source": []
  },
  {
   "cell_type": "code",
   "execution_count": null,
   "metadata": {},
   "outputs": [],
   "source": []
  }
 ],
 "metadata": {
  "kernelspec": {
   "display_name": "Python 3",
   "language": "python",
   "name": "python3"
  },
  "language_info": {
   "codemirror_mode": {
    "name": "ipython",
    "version": 3
   },
   "file_extension": ".py",
   "mimetype": "text/x-python",
   "name": "python",
   "nbconvert_exporter": "python",
   "pygments_lexer": "ipython3",
   "version": "3.7.1"
  }
 },
 "nbformat": 4,
 "nbformat_minor": 2
}
